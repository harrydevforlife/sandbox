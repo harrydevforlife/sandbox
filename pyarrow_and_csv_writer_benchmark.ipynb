{
  "nbformat": 4,
  "nbformat_minor": 0,
  "metadata": {
    "colab": {
      "provenance": [],
      "authorship_tag": "ABX9TyPdlxLxSTMvk7k3Q3M1qViZ",
      "include_colab_link": true
    },
    "kernelspec": {
      "name": "python3",
      "display_name": "Python 3"
    },
    "language_info": {
      "name": "python"
    }
  },
  "cells": [
    {
      "cell_type": "markdown",
      "metadata": {
        "id": "view-in-github",
        "colab_type": "text"
      },
      "source": [
        "<a href=\"https://colab.research.google.com/github/harrydevforlife/sandbox/blob/main/pyarrow_and_csv_writer_benchmark.ipynb\" target=\"_parent\"><img src=\"https://colab.research.google.com/assets/colab-badge.svg\" alt=\"Open In Colab\"/></a>"
      ]
    },
    {
      "cell_type": "markdown",
      "source": [
        "Benchmarking between pyarrow's CSV writer and Python's csv.writer can help you understand the trade-offs between speed, ease of use, and flexibility. Below is a Python script to compare the two methods.\n",
        "\n",
        "## Prerequisites\n",
        "Install the required libraries if you haven't already:\n",
        "\n"
      ],
      "metadata": {
        "id": "bH1iZSaZXS07"
      }
    },
    {
      "cell_type": "code",
      "execution_count": 1,
      "metadata": {
        "colab": {
          "base_uri": "https://localhost:8080/"
        },
        "id": "h1X3NH9RXMCD",
        "outputId": "fbf2c8bc-164b-4b24-89b5-805d281b314a"
      },
      "outputs": [
        {
          "output_type": "stream",
          "name": "stdout",
          "text": [
            "Requirement already satisfied: pandas in /usr/local/lib/python3.10/dist-packages (2.2.2)\n",
            "Requirement already satisfied: pyarrow in /usr/local/lib/python3.10/dist-packages (17.0.0)\n",
            "Requirement already satisfied: numpy>=1.22.4 in /usr/local/lib/python3.10/dist-packages (from pandas) (1.26.4)\n",
            "Requirement already satisfied: python-dateutil>=2.8.2 in /usr/local/lib/python3.10/dist-packages (from pandas) (2.8.2)\n",
            "Requirement already satisfied: pytz>=2020.1 in /usr/local/lib/python3.10/dist-packages (from pandas) (2024.2)\n",
            "Requirement already satisfied: tzdata>=2022.7 in /usr/local/lib/python3.10/dist-packages (from pandas) (2024.2)\n",
            "Requirement already satisfied: six>=1.5 in /usr/local/lib/python3.10/dist-packages (from python-dateutil>=2.8.2->pandas) (1.16.0)\n"
          ]
        }
      ],
      "source": [
        "!pip install pandas pyarrow"
      ]
    },
    {
      "cell_type": "code",
      "source": [
        "import pandas as pd\n",
        "import numpy as np\n",
        "import pyarrow as pa\n",
        "import pyarrow.csv as pcsv\n",
        "import csv\n",
        "import time\n",
        "import os\n",
        "import tempfile\n",
        "\n",
        "def generate_sample_data(num_rows=10_000_000, num_cols=10):\n",
        "    \"\"\"\n",
        "    Generates a pandas DataFrame with random data.\n",
        "\n",
        "    Args:\n",
        "        num_rows (int): Number of rows.\n",
        "        num_cols (int): Number of columns.\n",
        "\n",
        "    Returns:\n",
        "        pd.DataFrame: Generated DataFrame.\n",
        "    \"\"\"\n",
        "    data = {f'col_{i}': np.random.randn(num_rows) for i in range(num_cols)}\n",
        "    return pd.DataFrame(data)\n",
        "\n",
        "def write_csv_pyarrow(df, file_path):\n",
        "    \"\"\"\n",
        "    Writes a pandas DataFrame to a CSV file using PyArrow.\n",
        "\n",
        "    Args:\n",
        "        df (pd.DataFrame): Data to write.\n",
        "        file_path (str): Destination file path.\n",
        "    \"\"\"\n",
        "    table = pa.Table.from_pandas(df)\n",
        "    pcsv.write_csv(table, file_path)\n",
        "\n",
        "def write_csv_writer(df, file_path):\n",
        "    \"\"\"\n",
        "    Writes a pandas DataFrame to a CSV file using Python's csv.writer.\n",
        "\n",
        "    Args:\n",
        "        df (pd.DataFrame): Data to write.\n",
        "        file_path (str): Destination file path.\n",
        "    \"\"\"\n",
        "    with open(file_path, mode='w', newline='', encoding='utf-8') as f:\n",
        "        writer = csv.writer(f)\n",
        "        # Write the header\n",
        "        writer.writerow(df.columns)\n",
        "        # Write the data\n",
        "        writer.writerows(df.values)\n",
        "\n",
        "def benchmark_write(func, *args, **kwargs):\n",
        "    \"\"\"\n",
        "    Benchmarks the time taken by a function to execute.\n",
        "\n",
        "    Args:\n",
        "        func (callable): Function to benchmark.\n",
        "        *args: Positional arguments for the function.\n",
        "        **kwargs: Keyword arguments for the function.\n",
        "\n",
        "    Returns:\n",
        "        float: Time taken in seconds.\n",
        "    \"\"\"\n",
        "    start_time = time.time()\n",
        "    func(*args, **kwargs)\n",
        "    end_time = time.time()\n",
        "    return end_time - start_time\n",
        "\n",
        "def run_benchmark(df, num_runs=3):\n",
        "    \"\"\"\n",
        "    Runs the benchmark for PyArrow and csv.writer.\n",
        "\n",
        "    Args:\n",
        "        df (pd.DataFrame): Data to write.\n",
        "        num_runs (int): Number of times to run each benchmark.\n",
        "\n",
        "    Returns:\n",
        "        dict: Average write times for each method.\n",
        "    \"\"\"\n",
        "    results = {'pyarrow': [], 'csv_writer': []}\n",
        "\n",
        "    for run in range(1, num_runs + 1):\n",
        "        print(f\"\\nRun {run} of {num_runs}:\")\n",
        "\n",
        "        with tempfile.TemporaryDirectory() as tmpdirname:\n",
        "            # Define file paths\n",
        "            pyarrow_file = os.path.join(tmpdirname, 'data_pyarrow.csv')\n",
        "            csv_writer_file = os.path.join(tmpdirname, 'data_csv_writer.csv')\n",
        "\n",
        "            # Benchmark PyArrow\n",
        "            time_pyarrow = benchmark_write(write_csv_pyarrow, df, pyarrow_file)\n",
        "            results['pyarrow'].append(time_pyarrow)\n",
        "            print(f\"PyArrow CSV write time: {time_pyarrow:.2f} seconds\")\n",
        "\n",
        "            # Benchmark csv.writer\n",
        "            time_csv_writer = benchmark_write(write_csv_writer, df, csv_writer_file)\n",
        "            results['csv_writer'].append(time_csv_writer)\n",
        "            print(f\"csv.writer write time: {time_csv_writer:.2f} seconds\")\n",
        "\n",
        "    # Calculate average times\n",
        "    avg_pyarrow = sum(results['pyarrow']) / num_runs\n",
        "    avg_csv_writer = sum(results['csv_writer']) / num_runs\n",
        "\n",
        "    return {\n",
        "        'PyArrow Average Time (s)': avg_pyarrow,\n",
        "        'csv.writer Average Time (s)': avg_csv_writer\n",
        "    }\n",
        "\n",
        "def main():\n",
        "    # Parameters\n",
        "    NUM_ROWS = 10_000_000  # Number of rows (reduce if memory is limited)\n",
        "    NUM_COLS = 10          # Number of columns\n",
        "    NUM_RUNS = 3           # Number of benchmark runs\n",
        "\n",
        "    print(\"Generating sample data...\")\n",
        "    df = generate_sample_data(num_rows=NUM_ROWS, num_cols=NUM_COLS)\n",
        "    print(f\"DataFrame with {NUM_ROWS} rows and {NUM_COLS} columns generated.\")\n",
        "\n",
        "    print(\"\\nStarting benchmark...\")\n",
        "    results = run_benchmark(df, num_runs=NUM_RUNS)\n",
        "\n",
        "    print(\"\\nBenchmark Results:\")\n",
        "    for lib, avg_time in results.items():\n",
        "        print(f\"{lib}: {avg_time:.2f} seconds on average over {NUM_RUNS} runs\")\n",
        "\n",
        "if __name__ == \"__main__\":\n",
        "    main()\n"
      ],
      "metadata": {
        "colab": {
          "base_uri": "https://localhost:8080/"
        },
        "id": "_qG4LiPsXlgj",
        "outputId": "5da700dc-b054-443e-db35-93cd1b1bc775"
      },
      "execution_count": 3,
      "outputs": [
        {
          "output_type": "stream",
          "name": "stdout",
          "text": [
            "Generating sample data...\n",
            "DataFrame with 10000000 rows and 10 columns generated.\n",
            "\n",
            "Starting benchmark...\n",
            "\n",
            "Run 1 of 3:\n",
            "PyArrow CSV write time: 25.32 seconds\n",
            "csv.writer write time: 163.20 seconds\n",
            "\n",
            "Run 2 of 3:\n",
            "PyArrow CSV write time: 26.55 seconds\n",
            "csv.writer write time: 159.69 seconds\n",
            "\n",
            "Run 3 of 3:\n",
            "PyArrow CSV write time: 30.03 seconds\n",
            "csv.writer write time: 161.15 seconds\n",
            "\n",
            "Benchmark Results:\n",
            "PyArrow Average Time (s): 27.30 seconds on average over 3 runs\n",
            "csv.writer Average Time (s): 161.35 seconds on average over 3 runs\n"
          ]
        }
      ]
    },
    {
      "cell_type": "markdown",
      "source": [
        "### **Explanation**\n",
        "\n",
        "1. **Data Generation (`generate_sample_data`)**:\n",
        "   - Creates a pandas DataFrame with random numerical data. You can adjust the number of rows and columns.\n",
        "\n",
        "2. **Writing Functions**:\n",
        "   - **`write_csv_pyarrow`**: Converts the pandas DataFrame to a PyArrow Table and writes it as a CSV file.\n",
        "   - **`write_csv_writer`**: Uses Python's `csv.writer` to manually write rows to a CSV file.\n",
        "\n",
        "3. **Benchmarking Function (`benchmark_write`)**:\n",
        "   - Measures execution time for a specific write function.\n",
        "\n",
        "4. **Run Benchmark (`run_benchmark`)**:\n",
        "   - Runs the write operations multiple times and computes the average execution time for each method.\n",
        "   - Uses `tempfile.TemporaryDirectory` to manage temporary file paths.\n",
        "\n",
        "5. **Main Function (`main`)**:\n",
        "   - Defines parameters (number of rows, columns, and runs) and starts the benchmark.\n",
        "   - Displays average execution times for both methods.\n",
        "\n",
        "---\n",
        "\n",
        "### **Running the Benchmark**\n",
        "\n",
        "1. **Save the Script**: Save the above script to a file, e.g., `csv_benchmark.py`.\n",
        "\n",
        "2. **Run the Script**:\n",
        "\n",
        "    ```bash\n",
        "    python csv_benchmark.py\n",
        "    ```\n",
        "\n",
        "---\n",
        "\n",
        "### **Key Insights**\n",
        "\n",
        "- **`pyarrow`**: Optimized for high performance, especially on large datasets. It uses C++ backend and multi-threading for faster execution.\n",
        "- **`csv.writer`**: Simpler but slower, as it processes rows in Python without additional optimizations.\n",
        "\n",
        "### **Customizations**\n",
        "\n",
        "- **Dataset Size**: Adjust `NUM_ROWS` and `NUM_COLS` to simulate larger or smaller datasets.\n",
        "- **Number of Runs**: Modify `NUM_RUNS` for more robust averages.\n",
        "- **Compression**: Experiment with additional settings like compression when applicable for PyArrow.\n",
        "\n",
        "---\n",
        "\n",
        "This script should help you understand the performance trade-offs between the two methods for your use case. Let me know if you need further assistance!"
      ],
      "metadata": {
        "id": "5Qn36SeWXpQz"
      }
    }
  ]
}